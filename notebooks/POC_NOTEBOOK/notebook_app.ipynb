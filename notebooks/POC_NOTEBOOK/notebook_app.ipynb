{
 "metadata": {
  "kernelspec": {
   "display_name": "Streamlit Notebook",
   "name": "streamlit"
  }
 },
 "nbformat_minor": 5,
 "nbformat": 4,
 "cells": [
  {
   "cell_type": "code",
   "id": "adefe92d-f5e0-4fcb-988c-e58b97d864bb",
   "metadata": {
    "language": "sql",
    "name": "cell1",
    "collapsed": false,
    "resultHeight": 112
   },
   "outputs": [],
   "source": "-- CREATE OR REPLACE STORAGE INTEGRATION s3_integration\n--   TYPE = EXTERNAL_STAGE\n--   STORAGE_PROVIDER = 'S3'\n--   ENABLED = TRUE\n--   STORAGE_AWS_ROLE_ARN = 'arn:aws:iam::774305574730:role/snowflake_access_role'\n--   STORAGE_ALLOWED_LOCATIONS = ('s3://hanifidemirel/')",
   "execution_count": null
  },
  {
   "cell_type": "code",
   "id": "967b9149-7bf8-4668-b126-ce978d952463",
   "metadata": {
    "language": "sql",
    "name": "cell4",
    "resultHeight": 357
   },
   "outputs": [],
   "source": "desc integration s3_integration",
   "execution_count": null
  },
  {
   "cell_type": "code",
   "id": "55cbaef0-6487-4b0b-bbd7-f6c33c73bcee",
   "metadata": {
    "language": "sql",
    "name": "cell2",
    "resultHeight": 112
   },
   "outputs": [],
   "source": "CREATE OR REPLACE FILE FORMAT PARQUET_FORMAT\n   TYPE = PARQUET\n   COMPRESSION = SNAPPY;\n   \nCREATE or REPLACE STAGE s3_stage_loan_tape\n  STORAGE_INTEGRATION = s3_integration\n  URL = 's3://hanifidemirel/loan_tape/'\n  FILE_FORMAT = PARQUET_FORMAT;\n  \nCREATE or REPLACE STAGE s3_stage_pre_sale_loan_tape\n  STORAGE_INTEGRATION = s3_integration\n  URL = 's3://hanifidemirel/pre_sale_loan_tape/'\n  FILE_FORMAT = PARQUET_FORMAT;",
   "execution_count": null
  },
  {
   "cell_type": "code",
   "id": "09b68f5e-addb-440e-8314-3a3f5dc146f4",
   "metadata": {
    "language": "sql",
    "name": "cell5",
    "resultHeight": 112
   },
   "outputs": [],
   "source": "list @s3_stage_pre_sale_loan_tape",
   "execution_count": null
  },
  {
   "cell_type": "code",
   "id": "a631c423-7fc1-4e3b-9c4e-1fdf8c5eb915",
   "metadata": {
    "language": "python",
    "name": "cell3",
    "resultHeight": 38
   },
   "outputs": [],
   "source": "import time\nfrom snowflake.snowpark import Session\n\nwith Session.builder.getOrCreate() as session:\n        \n    df = session.read.option(\"compression\", \"gzip\").options({\"infer_schema\":True}).csv('@s3_stage_pre_sale_loan_tape')\n    row_count = df.count()\n    print(f\"The DataFrame has {row_count} rows.\")\n    df.write.mode(\"overwrite\").save_as_table(\"pre_sale_loan_tape\")",
   "execution_count": null
  },
  {
   "cell_type": "code",
   "id": "72190f11-45b7-4b0e-9874-4cb929487c03",
   "metadata": {
    "language": "python",
    "name": "cell6",
    "resultHeight": 38
   },
   "outputs": [],
   "source": "import time\nfrom snowflake.snowpark import Session\n\nwith Session.builder.getOrCreate() as session:\n        \n    df = session.read.option(\"compression\", \"snappy\").options({\"infer_schema\":True}).parquet('@s3_stage_loan_tape/part')\n    row_count = df.count()\n    print(f\"The DataFrame has {row_count} rows.\")\n    df.write.mode(\"overwrite\").save_as_table(\"loan_tape\")",
   "execution_count": null
  },
  {
   "cell_type": "code",
   "id": "87c2ca91-cac1-4bdf-b73c-dac04452bc3f",
   "metadata": {
    "language": "sql",
    "name": "cell7",
    "resultHeight": 111
   },
   "outputs": [],
   "source": "SELECT * FROM hol_db.analytics.LOAN_TAPE AT(TIMESTAMP => '2024-12-18 02:58:51-08:00');\n",
   "execution_count": null
  },
  {
   "cell_type": "code",
   "id": "5002de84-59a2-4f2a-abbe-16ac95f7e31e",
   "metadata": {
    "language": "sql",
    "name": "cell8",
    "resultHeight": 112
   },
   "outputs": [],
   "source": "update hol_db.analytics.LOAN_TAPE \nset \"apr\" = 5 \nwhere \"charge_ari\" = 'OBV5-JVJS';\ncommit;",
   "execution_count": null
  },
  {
   "cell_type": "code",
   "id": "8251c9a9-13a2-4669-977e-19aefe060da2",
   "metadata": {
    "language": "sql",
    "name": "cell9",
    "resultHeight": 147
   },
   "outputs": [],
   "source": "SHOW TABLES HISTORY LIKE 'LOAN_TAPE%' IN hol_db.analytics;\n",
   "execution_count": null
  }
 ]
}