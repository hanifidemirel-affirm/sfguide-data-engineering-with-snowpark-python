{
 "metadata": {
  "kernelspec": {
   "display_name": "Streamlit Notebook",
   "name": "streamlit"
  }
 },
 "nbformat_minor": 5,
 "nbformat": 4,
 "cells": [
  {
   "cell_type": "code",
   "id": "7bee343a-c914-4600-80a1-cd1f5e4aa6e1",
   "metadata": {
    "language": "python",
    "name": "cell5",
    "collapsed": false,
    "resultHeight": 329
   },
   "outputs": [],
   "source": "#------------------------------------------------------------------------------\n# Hands-On Lab: Data Engineering with Snowpark\n# Script:       02_load_raw.py\n# Author:       Jeremiah Hansen, Caleb Baechtold\n# Last Updated: 1/9/2023\n#------------------------------------------------------------------------------\n\nimport time\nfrom snowflake.snowpark import Session\n#import snowflake.snowpark.types as T\n#import snowflake.snowpark.functions as F\n\n\nPOS_TABLES = ['country', 'franchise', 'location', 'menu', 'truck', 'order_header', 'order_detail']\nCUSTOMER_TABLES = ['customer_loyalty']\nTABLE_DICT = {\n    \"pos\": {\"schema\": \"RAW_POS\", \"tables\": POS_TABLES},\n    \"customer\": {\"schema\": \"RAW_CUSTOMER\", \"tables\": CUSTOMER_TABLES}\n}\n\n# SNOWFLAKE ADVANTAGE: Schema detection\n# SNOWFLAKE ADVANTAGE: Data ingestion with COPY\n# SNOWFLAKE ADVANTAGE: Snowflake Tables (not file-based)\n\ndef load_raw_table(session, tname=None, s3dir=None, year=None, schema=None):\n    session.use_schema(schema)\n    if year is None:\n        location = \"@external.frostbyte_raw_stage/{}/{}\".format(s3dir, tname)\n    else:\n        print('\\tLoading year {}'.format(year)) \n        location = \"@external.frostbyte_raw_stage/{}/{}/year={}\".format(s3dir, tname, year)\n    \n    # we can infer schema using the parquet read option\n    df = session.read.option(\"compression\", \"snappy\") \\\n                            .parquet(location)\n    df.copy_into_table(\"{}\".format(tname))\n    comment_text = '''{\"origin\":\"sf_sit-is\",\"name\":\"snowpark_101_de\",\"version\":{\"major\":1, \"minor\":0},\"attributes\":{\"is_quickstart\":1, \"source\":\"sql\"}}'''\n    sql_command = f\"\"\"COMMENT ON TABLE {tname} IS '{comment_text}';\"\"\"\n    session.sql(sql_command).collect()\n\n# SNOWFLAKE ADVANTAGE: Warehouse elasticity (dynamic scaling)\n\ndef load_all_raw_tables(session):\n    _ = session.sql(\"ALTER WAREHOUSE HOL_WH SET WAREHOUSE_SIZE = XLARGE WAIT_FOR_COMPLETION = TRUE\").collect()\n\n    for s3dir, data in TABLE_DICT.items():\n        tnames = data['tables']\n        schema = data['schema']\n        for tname in tnames:\n            print(\"Loading {}\".format(tname))\n            # Only load the first 3 years of data for the order tables at this point\n            # We will load the 2022 data later in the lab\n            if tname in ['order_header', 'order_detail']:\n                for year in ['2019', '2020', '2021']:\n                    load_raw_table(session, tname=tname, s3dir=s3dir, year=year, schema=schema)\n            else:\n                load_raw_table(session, tname=tname, s3dir=s3dir, schema=schema)\n\n    _ = session.sql(\"ALTER WAREHOUSE HOL_WH SET WAREHOUSE_SIZE = XSMALL\").collect()\n\ndef validate_raw_tables(session):\n    # check column names from the inferred schema\n    for tname in POS_TABLES:\n        print('{}: \\n\\t{}\\n'.format(tname, session.table('RAW_POS.{}'.format(tname)).columns))\n\n    for tname in CUSTOMER_TABLES:\n        print('{}: \\n\\t{}\\n'.format(tname, session.table('RAW_CUSTOMER.{}'.format(tname)).columns))\n\n\n# For local debugging\nif __name__ == \"__main__\":\n    # Create a local Snowpark session\n    with Session.builder.getOrCreate() as session:\n        load_all_raw_tables(session)\n#        validate_raw_tables(session)",
   "execution_count": null
  },
  {
   "cell_type": "code",
   "id": "3775908f-ca36-4846-8f38-5adca39217f2",
   "metadata": {
    "language": "sql",
    "name": "cell1",
    "resultHeight": 439,
    "collapsed": false
   },
   "source": "SELECT * FROM FROSTBYTE_WEATHERSOURCE.ONPOINT_ID.POSTAL_CODES LIMIT 100;",
   "execution_count": null,
   "outputs": []
  },
  {
   "cell_type": "code",
   "id": "11f2230f-f374-41ae-a669-1b945a57f2a2",
   "metadata": {
    "language": "python",
    "name": "cell4",
    "collapsed": false,
    "resultHeight": 67
   },
   "outputs": [],
   "source": "#------------------------------------------------------------------------------\n# Hands-On Lab: Data Engineering with Snowpark\n# Script:       04_create_order_view.py\n# Author:       Jeremiah Hansen, Caleb Baechtold\n# Last Updated: 1/9/2023\n#------------------------------------------------------------------------------\n\n# SNOWFLAKE ADVANTAGE: Snowpark DataFrame API\n# SNOWFLAKE ADVANTAGE: Streams for incremental processing (CDC)\n# SNOWFLAKE ADVANTAGE: Streams on views\n\n\nfrom snowflake.snowpark import Session\n#import snowflake.snowpark.types as T\nimport snowflake.snowpark.functions as F\n\n\ndef create_pos_view(session):\n    session.use_schema('HARMONIZED')\n    order_detail = session.table(\"RAW_POS.ORDER_DETAIL\").select(F.col(\"ORDER_DETAIL_ID\"), \\\n                                                                F.col(\"LINE_NUMBER\"), \\\n                                                                F.col(\"MENU_ITEM_ID\"), \\\n                                                                F.col(\"QUANTITY\"), \\\n                                                                F.col(\"UNIT_PRICE\"), \\\n                                                                F.col(\"PRICE\"), \\\n                                                                F.col(\"ORDER_ID\"))\n    order_header = session.table(\"RAW_POS.ORDER_HEADER\").select(F.col(\"ORDER_ID\"), \\\n                                                                F.col(\"TRUCK_ID\"), \\\n                                                                F.col(\"ORDER_TS\"), \\\n                                                                F.to_date(F.col(\"ORDER_TS\")).alias(\"ORDER_TS_DATE\"), \\\n                                                                F.col(\"ORDER_AMOUNT\"), \\\n                                                                F.col(\"ORDER_TAX_AMOUNT\"), \\\n                                                                F.col(\"ORDER_DISCOUNT_AMOUNT\"), \\\n                                                                F.col(\"LOCATION_ID\"), \\\n                                                                F.col(\"ORDER_TOTAL\"))\n    truck = session.table(\"RAW_POS.TRUCK\").select(F.col(\"TRUCK_ID\"), \\\n                                                F.col(\"PRIMARY_CITY\"), \\\n                                                F.col(\"REGION\"), \\\n                                                F.col(\"COUNTRY\"), \\\n                                                F.col(\"FRANCHISE_FLAG\"), \\\n                                                F.col(\"FRANCHISE_ID\"))\n    menu = session.table(\"RAW_POS.MENU\").select(F.col(\"MENU_ITEM_ID\"), \\\n                                                F.col(\"TRUCK_BRAND_NAME\"), \\\n                                                F.col(\"MENU_TYPE\"), \\\n                                                F.col(\"MENU_ITEM_NAME\"))\n    franchise = session.table(\"RAW_POS.FRANCHISE\").select(F.col(\"FRANCHISE_ID\"), \\\n                                                        F.col(\"FIRST_NAME\").alias(\"FRANCHISEE_FIRST_NAME\"), \\\n                                                        F.col(\"LAST_NAME\").alias(\"FRANCHISEE_LAST_NAME\"))\n    location = session.table(\"RAW_POS.LOCATION\").select(F.col(\"LOCATION_ID\"))\n\n    \n    '''\n    We can do this one of two ways: either select before the join so it is more explicit, or just join on the full tables.\n    The end result is the same, it's mostly a readibility question.\n    '''\n    # order_detail = session.table(\"RAW_POS.ORDER_DETAIL\")\n    # order_header = session.table(\"RAW_POS.ORDER_HEADER\")\n    # truck = session.table(\"RAW_POS.TRUCK\")\n    # menu = session.table(\"RAW_POS.MENU\")\n    # franchise = session.table(\"RAW_POS.FRANCHISE\")\n    # location = session.table(\"RAW_POS.LOCATION\")\n\n    t_with_f = truck.join(franchise, truck['FRANCHISE_ID'] == franchise['FRANCHISE_ID'], rsuffix='_f')\n    oh_w_t_and_l = order_header.join(t_with_f, order_header['TRUCK_ID'] == t_with_f['TRUCK_ID'], rsuffix='_t') \\\n                                .join(location, order_header['LOCATION_ID'] == location['LOCATION_ID'], rsuffix='_l')\n    final_df = order_detail.join(oh_w_t_and_l, order_detail['ORDER_ID'] == oh_w_t_and_l['ORDER_ID'], rsuffix='_oh') \\\n                            .join(menu, order_detail['MENU_ITEM_ID'] == menu['MENU_ITEM_ID'], rsuffix='_m')\n    final_df = final_df.select(F.col(\"ORDER_ID\"), \\\n                            F.col(\"TRUCK_ID\"), \\\n                            F.col(\"ORDER_TS\"), \\\n                            F.col('ORDER_TS_DATE'), \\\n                            F.col(\"ORDER_DETAIL_ID\"), \\\n                            F.col(\"LINE_NUMBER\"), \\\n                            F.col(\"TRUCK_BRAND_NAME\"), \\\n                            F.col(\"MENU_TYPE\"), \\\n                            F.col(\"PRIMARY_CITY\"), \\\n                            F.col(\"REGION\"), \\\n                            F.col(\"COUNTRY\"), \\\n                            F.col(\"FRANCHISE_FLAG\"), \\\n                            F.col(\"FRANCHISE_ID\"), \\\n                            F.col(\"FRANCHISEE_FIRST_NAME\"), \\\n                            F.col(\"FRANCHISEE_LAST_NAME\"), \\\n                            F.col(\"LOCATION_ID\"), \\\n                            F.col(\"MENU_ITEM_ID\"), \\\n                            F.col(\"MENU_ITEM_NAME\"), \\\n                            F.col(\"QUANTITY\"), \\\n                            F.col(\"UNIT_PRICE\"), \\\n                            F.col(\"PRICE\"), \\\n                            F.col(\"ORDER_AMOUNT\"), \\\n                            F.col(\"ORDER_TAX_AMOUNT\"), \\\n                            F.col(\"ORDER_DISCOUNT_AMOUNT\"), \\\n                            F.col(\"ORDER_TOTAL\"))\n    final_df.create_or_replace_view('POS_FLATTENED_V')\n\ndef create_pos_view_stream(session):\n    session.use_schema('HARMONIZED')\n    _ = session.sql('CREATE OR REPLACE STREAM POS_FLATTENED_V_STREAM \\\n                        ON VIEW POS_FLATTENED_V \\\n                        SHOW_INITIAL_ROWS = TRUE').collect()\n\ndef test_pos_view(session):\n    session.use_schema('HARMONIZED')\n    tv = session.table('POS_FLATTENED_V')\n    tv.limit(5).show()\n\n\n# For local debugging\nif __name__ == \"__main__\":\n    # Create a local Snowpark session\n    with Session.builder.getOrCreate() as session:\n        create_pos_view(session)\n        create_pos_view_stream(session)\n#        test_pos_view(session)",
   "execution_count": null
  },
  {
   "cell_type": "code",
   "id": "8d50cbf4-0c8d-4950-86cb-114990437ac9",
   "metadata": {
    "language": "sql",
    "name": "cell2",
    "resultHeight": 427,
    "collapsed": false
   },
   "source": "SELECT * FROM HOL_DB.ANALYTICS.LOAN_TAPE\nLIMIT 10",
   "execution_count": null,
   "outputs": []
  },
  {
   "cell_type": "code",
   "id": "c695373e-ac74-4b62-a1f1-08206cbd5c81",
   "metadata": {
    "language": "sql",
    "name": "cell3",
    "resultHeight": 112,
    "collapsed": false
   },
   "source": "CREATE STORAGE INTEGRATION s3_integration\n  TYPE = EXTERNAL_STAGE\n  STORAGE_PROVIDER = 'S3'\n  ENABLED = TRUE\n  STORAGE_AWS_ROLE_ARN = 'arn:aws:iam::774305574730:role/snowflake_access_role'\n  STORAGE_ALLOWED_LOCATIONS = ('s3://hanifidemirel/')",
   "execution_count": null,
   "outputs": []
  },
  {
   "cell_type": "code",
   "id": "15a4aa9a-461c-4f9f-bf2d-d3dc05142428",
   "metadata": {
    "language": "sql",
    "name": "cell6",
    "resultHeight": 357
   },
   "outputs": [],
   "source": "desc integration s3_integration",
   "execution_count": null
  },
  {
   "cell_type": "code",
   "id": "ba189802-940c-418a-b5d6-fa726b075512",
   "metadata": {
    "language": "sql",
    "name": "cell8",
    "collapsed": false,
    "resultHeight": 112
   },
   "outputs": [],
   "source": "CREATE OR REPLACE FILE FORMAT PARQUET_FORMAT\n   TYPE = PARQUET\n   COMPRESSION = SNAPPY",
   "execution_count": null
  },
  {
   "cell_type": "code",
   "id": "3506c4d9-06b9-409b-8fca-e69a60e3003a",
   "metadata": {
    "language": "sql",
    "name": "cell7",
    "collapsed": false,
    "resultHeight": 112
   },
   "outputs": [],
   "source": "CREATE or replace STAGE s3_stage_loan_tape\n  STORAGE_INTEGRATION = s3_integration\n  URL = 's3://hanifidemirel/loan_tape/'\n  FILE_FORMAT = PARQUET_FORMAT;\n  CREATE or replace STAGE s3_stage_pre_sale_loan_tape\n  STORAGE_INTEGRATION = s3_integration\n  URL = 's3://hanifidemirel/pre_sale_loan_tape/'\n  FILE_FORMAT = PARQUET_FORMAT;",
   "execution_count": null
  },
  {
   "cell_type": "code",
   "id": "6886d46d-0ba0-44bb-a5e5-6904f4972750",
   "metadata": {
    "language": "sql",
    "name": "cell9",
    "resultHeight": 112
   },
   "outputs": [],
   "source": "list @s3_stage_pre_sale_loan_tape",
   "execution_count": null
  }
 ]
}