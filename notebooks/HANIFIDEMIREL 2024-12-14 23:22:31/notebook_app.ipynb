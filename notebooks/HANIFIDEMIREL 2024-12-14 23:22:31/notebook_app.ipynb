{
 "metadata": {
  "kernelspec": {
   "display_name": "Streamlit Notebook",
   "name": "streamlit"
  }
 },
 "nbformat_minor": 5,
 "nbformat": 4,
 "cells": [
  {
   "cell_type": "code",
   "id": "7bee343a-c914-4600-80a1-cd1f5e4aa6e1",
   "metadata": {
    "language": "python",
    "name": "cell5",
    "collapsed": false,
    "resultHeight": 329
   },
   "outputs": [],
   "source": "#------------------------------------------------------------------------------\n# Hands-On Lab: Data Engineering with Snowpark\n# Script:       02_load_raw.py\n# Author:       Jeremiah Hansen, Caleb Baechtold\n# Last Updated: 1/9/2023\n#------------------------------------------------------------------------------\n\nimport time\nfrom snowflake.snowpark import Session\n#import snowflake.snowpark.types as T\n#import snowflake.snowpark.functions as F\n\n\nPOS_TABLES = ['country', 'franchise', 'location', 'menu', 'truck', 'order_header', 'order_detail']\nCUSTOMER_TABLES = ['customer_loyalty']\nTABLE_DICT = {\n    \"pos\": {\"schema\": \"RAW_POS\", \"tables\": POS_TABLES},\n    \"customer\": {\"schema\": \"RAW_CUSTOMER\", \"tables\": CUSTOMER_TABLES}\n}\n\n# SNOWFLAKE ADVANTAGE: Schema detection\n# SNOWFLAKE ADVANTAGE: Data ingestion with COPY\n# SNOWFLAKE ADVANTAGE: Snowflake Tables (not file-based)\n\ndef load_raw_table(session, tname=None, s3dir=None, year=None, schema=None):\n    session.use_schema(schema)\n    if year is None:\n        location = \"@external.frostbyte_raw_stage/{}/{}\".format(s3dir, tname)\n    else:\n        print('\\tLoading year {}'.format(year)) \n        location = \"@external.frostbyte_raw_stage/{}/{}/year={}\".format(s3dir, tname, year)\n    \n    # we can infer schema using the parquet read option\n    df = session.read.option(\"compression\", \"snappy\") \\\n                            .parquet(location)\n    df.copy_into_table(\"{}\".format(tname))\n    comment_text = '''{\"origin\":\"sf_sit-is\",\"name\":\"snowpark_101_de\",\"version\":{\"major\":1, \"minor\":0},\"attributes\":{\"is_quickstart\":1, \"source\":\"sql\"}}'''\n    sql_command = f\"\"\"COMMENT ON TABLE {tname} IS '{comment_text}';\"\"\"\n    session.sql(sql_command).collect()\n\n# SNOWFLAKE ADVANTAGE: Warehouse elasticity (dynamic scaling)\n\ndef load_all_raw_tables(session):\n    _ = session.sql(\"ALTER WAREHOUSE HOL_WH SET WAREHOUSE_SIZE = XLARGE WAIT_FOR_COMPLETION = TRUE\").collect()\n\n    for s3dir, data in TABLE_DICT.items():\n        tnames = data['tables']\n        schema = data['schema']\n        for tname in tnames:\n            print(\"Loading {}\".format(tname))\n            # Only load the first 3 years of data for the order tables at this point\n            # We will load the 2022 data later in the lab\n            if tname in ['order_header', 'order_detail']:\n                for year in ['2019', '2020', '2021']:\n                    load_raw_table(session, tname=tname, s3dir=s3dir, year=year, schema=schema)\n            else:\n                load_raw_table(session, tname=tname, s3dir=s3dir, schema=schema)\n\n    _ = session.sql(\"ALTER WAREHOUSE HOL_WH SET WAREHOUSE_SIZE = XSMALL\").collect()\n\ndef validate_raw_tables(session):\n    # check column names from the inferred schema\n    for tname in POS_TABLES:\n        print('{}: \\n\\t{}\\n'.format(tname, session.table('RAW_POS.{}'.format(tname)).columns))\n\n    for tname in CUSTOMER_TABLES:\n        print('{}: \\n\\t{}\\n'.format(tname, session.table('RAW_CUSTOMER.{}'.format(tname)).columns))\n\n\n# For local debugging\nif __name__ == \"__main__\":\n    # Create a local Snowpark session\n    with Session.builder.getOrCreate() as session:\n        load_all_raw_tables(session)\n#        validate_raw_tables(session)",
   "execution_count": null
  },
  {
   "cell_type": "code",
   "id": "3775908f-ca36-4846-8f38-5adca39217f2",
   "metadata": {
    "language": "sql",
    "name": "cell1",
    "resultHeight": 439,
    "collapsed": false
   },
   "source": "SELECT * FROM FROSTBYTE_WEATHERSOURCE.ONPOINT_ID.POSTAL_CODES LIMIT 100;",
   "execution_count": null,
   "outputs": []
  },
  {
   "cell_type": "code",
   "id": "11f2230f-f374-41ae-a669-1b945a57f2a2",
   "metadata": {
    "language": "python",
    "name": "cell4",
    "collapsed": false,
    "resultHeight": 67
   },
   "outputs": [],
   "source": "#------------------------------------------------------------------------------\n# Hands-On Lab: Data Engineering with Snowpark\n# Script:       04_create_order_view.py\n# Author:       Jeremiah Hansen, Caleb Baechtold\n# Last Updated: 1/9/2023\n#------------------------------------------------------------------------------\n\n# SNOWFLAKE ADVANTAGE: Snowpark DataFrame API\n# SNOWFLAKE ADVANTAGE: Streams for incremental processing (CDC)\n# SNOWFLAKE ADVANTAGE: Streams on views\n\n\nfrom snowflake.snowpark import Session\n#import snowflake.snowpark.types as T\nimport snowflake.snowpark.functions as F\n\n\ndef create_pos_view(session):\n    session.use_schema('HARMONIZED')\n    order_detail = session.table(\"RAW_POS.ORDER_DETAIL\").select(F.col(\"ORDER_DETAIL_ID\"), \\\n                                                                F.col(\"LINE_NUMBER\"), \\\n                                                                F.col(\"MENU_ITEM_ID\"), \\\n                                                                F.col(\"QUANTITY\"), \\\n                                                                F.col(\"UNIT_PRICE\"), \\\n                                                                F.col(\"PRICE\"), \\\n                                                                F.col(\"ORDER_ID\"))\n    order_header = session.table(\"RAW_POS.ORDER_HEADER\").select(F.col(\"ORDER_ID\"), \\\n                                                                F.col(\"TRUCK_ID\"), \\\n                                                                F.col(\"ORDER_TS\"), \\\n                                                                F.to_date(F.col(\"ORDER_TS\")).alias(\"ORDER_TS_DATE\"), \\\n                                                                F.col(\"ORDER_AMOUNT\"), \\\n                                                                F.col(\"ORDER_TAX_AMOUNT\"), \\\n                                                                F.col(\"ORDER_DISCOUNT_AMOUNT\"), \\\n                                                                F.col(\"LOCATION_ID\"), \\\n                                                                F.col(\"ORDER_TOTAL\"))\n    truck = session.table(\"RAW_POS.TRUCK\").select(F.col(\"TRUCK_ID\"), \\\n                                                F.col(\"PRIMARY_CITY\"), \\\n                                                F.col(\"REGION\"), \\\n                                                F.col(\"COUNTRY\"), \\\n                                                F.col(\"FRANCHISE_FLAG\"), \\\n                                                F.col(\"FRANCHISE_ID\"))\n    menu = session.table(\"RAW_POS.MENU\").select(F.col(\"MENU_ITEM_ID\"), \\\n                                                F.col(\"TRUCK_BRAND_NAME\"), \\\n                                                F.col(\"MENU_TYPE\"), \\\n                                                F.col(\"MENU_ITEM_NAME\"))\n    franchise = session.table(\"RAW_POS.FRANCHISE\").select(F.col(\"FRANCHISE_ID\"), \\\n                                                        F.col(\"FIRST_NAME\").alias(\"FRANCHISEE_FIRST_NAME\"), \\\n                                                        F.col(\"LAST_NAME\").alias(\"FRANCHISEE_LAST_NAME\"))\n    location = session.table(\"RAW_POS.LOCATION\").select(F.col(\"LOCATION_ID\"))\n\n    \n    '''\n    We can do this one of two ways: either select before the join so it is more explicit, or just join on the full tables.\n    The end result is the same, it's mostly a readibility question.\n    '''\n    # order_detail = session.table(\"RAW_POS.ORDER_DETAIL\")\n    # order_header = session.table(\"RAW_POS.ORDER_HEADER\")\n    # truck = session.table(\"RAW_POS.TRUCK\")\n    # menu = session.table(\"RAW_POS.MENU\")\n    # franchise = session.table(\"RAW_POS.FRANCHISE\")\n    # location = session.table(\"RAW_POS.LOCATION\")\n\n    t_with_f = truck.join(franchise, truck['FRANCHISE_ID'] == franchise['FRANCHISE_ID'], rsuffix='_f')\n    oh_w_t_and_l = order_header.join(t_with_f, order_header['TRUCK_ID'] == t_with_f['TRUCK_ID'], rsuffix='_t') \\\n                                .join(location, order_header['LOCATION_ID'] == location['LOCATION_ID'], rsuffix='_l')\n    final_df = order_detail.join(oh_w_t_and_l, order_detail['ORDER_ID'] == oh_w_t_and_l['ORDER_ID'], rsuffix='_oh') \\\n                            .join(menu, order_detail['MENU_ITEM_ID'] == menu['MENU_ITEM_ID'], rsuffix='_m')\n    final_df = final_df.select(F.col(\"ORDER_ID\"), \\\n                            F.col(\"TRUCK_ID\"), \\\n                            F.col(\"ORDER_TS\"), \\\n                            F.col('ORDER_TS_DATE'), \\\n                            F.col(\"ORDER_DETAIL_ID\"), \\\n                            F.col(\"LINE_NUMBER\"), \\\n                            F.col(\"TRUCK_BRAND_NAME\"), \\\n                            F.col(\"MENU_TYPE\"), \\\n                            F.col(\"PRIMARY_CITY\"), \\\n                            F.col(\"REGION\"), \\\n                            F.col(\"COUNTRY\"), \\\n                            F.col(\"FRANCHISE_FLAG\"), \\\n                            F.col(\"FRANCHISE_ID\"), \\\n                            F.col(\"FRANCHISEE_FIRST_NAME\"), \\\n                            F.col(\"FRANCHISEE_LAST_NAME\"), \\\n                            F.col(\"LOCATION_ID\"), \\\n                            F.col(\"MENU_ITEM_ID\"), \\\n                            F.col(\"MENU_ITEM_NAME\"), \\\n                            F.col(\"QUANTITY\"), \\\n                            F.col(\"UNIT_PRICE\"), \\\n                            F.col(\"PRICE\"), \\\n                            F.col(\"ORDER_AMOUNT\"), \\\n                            F.col(\"ORDER_TAX_AMOUNT\"), \\\n                            F.col(\"ORDER_DISCOUNT_AMOUNT\"), \\\n                            F.col(\"ORDER_TOTAL\"))\n    final_df.create_or_replace_view('POS_FLATTENED_V')\n\ndef create_pos_view_stream(session):\n    session.use_schema('HARMONIZED')\n    _ = session.sql('CREATE OR REPLACE STREAM POS_FLATTENED_V_STREAM \\\n                        ON VIEW POS_FLATTENED_V \\\n                        SHOW_INITIAL_ROWS = TRUE').collect()\n\ndef test_pos_view(session):\n    session.use_schema('HARMONIZED')\n    tv = session.table('POS_FLATTENED_V')\n    tv.limit(5).show()\n\n\n# For local debugging\nif __name__ == \"__main__\":\n    # Create a local Snowpark session\n    with Session.builder.getOrCreate() as session:\n        create_pos_view(session)\n        create_pos_view_stream(session)\n#        test_pos_view(session)",
   "execution_count": null
  },
  {
   "cell_type": "code",
   "id": "8d50cbf4-0c8d-4950-86cb-114990437ac9",
   "metadata": {
    "language": "sql",
    "name": "cell2",
    "resultHeight": 427,
    "collapsed": false
   },
   "source": "SELECT * FROM HOL_DB.ANALYTICS.LOAN_TAPE\nLIMIT 10",
   "execution_count": null,
   "outputs": []
  },
  {
   "cell_type": "code",
   "id": "c695373e-ac74-4b62-a1f1-08206cbd5c81",
   "metadata": {
    "language": "sql",
    "name": "cell3",
    "resultHeight": 112,
    "collapsed": false
   },
   "source": "CREATE STORAGE INTEGRATION s3_integration\n  TYPE = EXTERNAL_STAGE\n  STORAGE_PROVIDER = 'S3'\n  ENABLED = TRUE\n  STORAGE_AWS_ROLE_ARN = 'arn:aws:iam::774305574730:role/snowflake_access_role'\n  STORAGE_ALLOWED_LOCATIONS = ('s3://hanifidemirel/')",
   "execution_count": null,
   "outputs": []
  },
  {
   "cell_type": "code",
   "id": "15a4aa9a-461c-4f9f-bf2d-d3dc05142428",
   "metadata": {
    "language": "sql",
    "name": "cell6",
    "resultHeight": 357
   },
   "outputs": [],
   "source": "desc integration s3_integration",
   "execution_count": null
  },
  {
   "cell_type": "code",
   "id": "ba189802-940c-418a-b5d6-fa726b075512",
   "metadata": {
    "language": "sql",
    "name": "cell8",
    "collapsed": false,
    "resultHeight": 112
   },
   "outputs": [],
   "source": "CREATE OR REPLACE FILE FORMAT PARQUET_FORMAT\n   TYPE = PARQUET\n   COMPRESSION = SNAPPY",
   "execution_count": null
  },
  {
   "cell_type": "code",
   "id": "3506c4d9-06b9-409b-8fca-e69a60e3003a",
   "metadata": {
    "language": "sql",
    "name": "cell7",
    "collapsed": false,
    "resultHeight": 112
   },
   "outputs": [],
   "source": "CREATE or replace STAGE s3_stage_loan_tape\n  STORAGE_INTEGRATION = s3_integration\n  URL = 's3://hanifidemirel/loan_tape/'\n  FILE_FORMAT = PARQUET_FORMAT;\n  CREATE or replace STAGE s3_stage_pre_sale_loan_tape\n  STORAGE_INTEGRATION = s3_integration\n  URL = 's3://hanifidemirel/pre_sale_loan_tape/'\n  FILE_FORMAT = PARQUET_FORMAT;",
   "execution_count": null
  },
  {
   "cell_type": "code",
   "id": "6886d46d-0ba0-44bb-a5e5-6904f4972750",
   "metadata": {
    "language": "sql",
    "name": "cell9",
    "resultHeight": 112
   },
   "outputs": [],
   "source": "list @s3_stage_pre_sale_loan_tape",
   "execution_count": null
  },
  {
   "cell_type": "code",
   "id": "e10369e0-3a7d-4a34-83a4-c2dda988944e",
   "metadata": {
    "language": "sql",
    "name": "cell10",
    "resultHeight": 439
   },
   "outputs": [],
   "source": "-- Creating table\ncreate or replace TABLE loan_tape (\n\tACCRUAL_METHOD VARCHAR(16777216),\n\tAPR NUMBER(38,12),\n\tAMOUNT_OVERDUE NUMBER(38,6),\n\tAUTH_TIME TIMESTAMP_NTZ(9),\n\tCAPTURE_AMOUNT NUMBER(38,12),\n\tCAPTURE_TIME TIMESTAMP_NTZ(9),\n\tCHARGE_ARI VARCHAR(16777216),\n\tCHARGEOFF_DATE DATE,\n\tCNS_PRINCIPAL NUMBER(38,12),\n\tCNS_ACCRUED_INTEREST NUMBER(38,12),\n\tCNS_PRINCIPAL_CHARGEDOFF NUMBER(38,12),\n\tCNS_ACCRUED_INTEREST_CHARGEDOFF NUMBER(38,12),\n\tCNS_PRINCIPAL_CHARGEDOFF_RECOVERY NUMBER(38,12),\n\tCNS_ACCRUED_INTEREST_CHARGEDOFF_RECOVERY NUMBER(38,12),\n\tCNS_PRINCIPAL_DISPUTED NUMBER(38,12),\n\tCNS_PRINCIPAL_REFUNDED NUMBER(38,12),\n\tCNS_INTEREST_PAID NUMBER(38,12),\n\tCONFIRM_TIME TIMESTAMP_NTZ(9),\n\tCR_DEBT_UTILIZATION_PERCENT NUMBER(38,12),\n\tCR_EARLIEST_ACCOUNT_DATE DATE,\n\tCR_INQUIRIES_6_MONTHS NUMBER(38,0),\n\tCR_MOST_RECENT_DQ_DATE DATE,\n\tCR_N_30_DAY_DQ NUMBER(38,0),\n\tCR_N_DEROGS NUMBER(38,0),\n\tCR_N_OPEN_ACCOUNTS NUMBER(38,0),\n\tCR_PULL_DATE DATE,\n\tCR_REVOLVING_BALANCE NUMBER(38,12),\n\tDAYS_OVERDUE NUMBER(38,0),\n\tDECISION_TYPE VARCHAR(16777216),\n\tDISBURSED_AMOUNT NUMBER(38,12),\n\tDISPUTE_STATUS BOOLEAN,\n\tDOWNPAYMENT_AMOUNT NUMBER(38,12),\n\tDSB_ACCRUED_INTEREST NUMBER(38,12),\n\tDSB_INTEREST_PAID_ST NUMBER(38,12),\n\tDSB_PRINCIPAL NUMBER(38,12),\n\tDSB_PRINCIPAL_CHARGEDOFF NUMBER(38,12),\n\tDSB_PRINCIPAL_CHARGEDOFF_RECOVERY NUMBER(38,12),\n\tDSB_PRINCIPAL_DISPUTED NUMBER(38,12),\n\tDSB_YIELD NUMBER(38,12),\n\tFICO_SCORE NUMBER(38,0),\n\tCREDIT_VISION NUMBER(38,0),\n\tGRADE VARCHAR(16777216),\n\tINTEREST_RATE NUMBER(38,12),\n\tIS_AUTOPAY BOOLEAN,\n\tIS_FIRST_PAYMENT_OVERDUE BOOLEAN,\n\tFIRST_PAYMENT_DAYS_OVERDUE NUMBER(38,0),\n\tIS_FRAUDULENT BOOLEAN,\n\tIS_ABUSE BOOLEAN,\n\tIS_SCRA BOOLEAN,\n\tIS_VCN BOOLEAN,\n\tLAST_CREDIT_CHECK TIMESTAMP_NTZ(9),\n\tLM_EFFECTIVE TIMESTAMP_NTZ(9),\n\tLOAN_AMOUNT NUMBER(38,12),\n\tMATURATION_DATE TIMESTAMP_NTZ(9),\n\tMDR NUMBER(38,12),\n\tMERCHANT_ARI VARCHAR(16777216),\n\tMERCHANT_INDUSTRY VARCHAR(16777216),\n\tMERCHANT_NAME VARCHAR(16777216),\n\tMERCHANT_SUB_INDUSTRY VARCHAR(16777216),\n\tOWN_ACCRUED_INTEREST NUMBER(38,12),\n\tOWN_PRINCIPAL NUMBER(38,12),\n\tOWN_PRINCIPAL_CHARGEDOFF NUMBER(38,12),\n\tOWN_PRINCIPAL_CHARGEDOFF_RECOVERY NUMBER(38,12),\n\tOWN_PRINCIPAL_DISPUTED NUMBER(38,12),\n\tOWN_PRINCIPAL_REFUNDED NUMBER(38,12),\n\tOWN_YIELD NUMBER(38,12),\n\tCHARGEDOFF_RECOVERY_FEE NUMBER(38,12),\n\tOWNER VARCHAR(16777216),\n\tPARENT_MERCHANT_ARI VARCHAR(16777216),\n\tPARENT_MERCHANT_NAME VARCHAR(16777216),\n\tPAYMENT_AMOUNT NUMBER(38,12),\n\tREGION_CODE VARCHAR(16777216),\n\tSSN_CRYPT_ARI VARCHAR(16777216),\n\tSTATUS VARCHAR(16777216),\n\tTARGET_APR NUMBER(38,12),\n\tTERM NUMBER(38,0),\n\tUSER_ARI VARCHAR(16777216),\n\tCITIZENS_CREDIT_TIER NUMBER(38,0),\n\tDTI NUMBER(38,12),\n\tANNUAL_INCOME NUMBER(38,12),\n\tDTI_MONTHLY_AFFIRM_DEBTS_DOLLARS NUMBER(38,12),\n\tDTI_MONTHLY_OTHER_PMTS_DOLLARS NUMBER(38,12),\n\tDTI_EST_WOULD_BE_MONTHLY_PAYMENT_DOLLARS NUMBER(38,12),\n\tCOLLATERAL_TYPE VARCHAR(16777216),\n\tPREQUAL_APPROVED_AMOUNT NUMBER(38,12),\n\tTOTAL_USER_AFFIRM_DEBT_CENTS NUMBER(38,12),\n\tREMAINING_TERM NUMBER(38,0),\n\tFIRST_DUE_DATE DATE,\n\tLAST_PAYMENT_MADE_DATE DATE,\n\tHAS_PAYMENT_DEFERRAL BOOLEAN,\n\tHAS_ACTIVE_DEFERRAL BOOLEAN,\n\tHAS_OVERDUE_DEFERRAL BOOLEAN,\n\tDAYS_NEXT_DUE_DATE_DEFERRED NUMBER(38,0),\n\tDAYS_OVERDUE_AS_OF_DEFERRAL_START NUMBER(38,0),\n\tDAYS_OVERDUE_AS_OF_DEFERRAL_CONTACT NUMBER(38,0),\n\tMATURATION_DATE_BEFORE_DEFERRAL TIMESTAMP_NTZ(9),\n\tNEXT_PAYMENT_DUE_DATE DATE,\n\tIS_TERMS_MODIFIED BOOLEAN,\n\tLOAN_MODIFICATION_REASONS VARIANT,\n\tTERMS_MODIFICATION_REASON VARCHAR(16777216),\n\tORIGINAL_MATURATION_DATE TIMESTAMP_NTZ(9),\n\tORIGINAL_TERM NUMBER(38,0),\n\tHAS_REAMORTIZATION BOOLEAN,\n\tHAS_OVERDUE_REAMORTIZATION BOOLEAN,\n\tDAYS_OVERDUE_AS_OF_REAMORTIZATION_START NUMBER(38,0),\n\tREMAINING_TERM_AS_OF_CHARGEOFF_DATE NUMBER(38,0),\n\tORIGINAL_TERM_IN_MONTHS NUMBER(38,12),\n\tTERM_IN_MONTHS NUMBER(38,12),\n\tREMAINING_TERM_IN_MONTHS NUMBER(38,12),\n\tREMAINING_TERM_AS_OF_CHARGEOFF_DATE_IN_MONTHS NUMBER(38,12),\n\tORIGINATOR VARCHAR(16777216),\n\tPLAN_FREQUENCY VARCHAR(16777216),\n\tPLAN_INTERVAL NUMBER(38,0),\n\tUSER_POSTAL_CODE VARCHAR(16777216),\n\tLAST_ACTIVITY_DATE DATE,\n\tAPPROVED_AMOUNT NUMBER(38,12),\n\tFIRST_EXPECTED_PAYMENT_DATE TIMESTAMP_NTZ(9),\n\tORIGINATION_DATE DATE,\n\tEXPECTED_PAYMENT_AMOUNTS VARIANT,\n\tEXPECTED_PAYMENT_DATES VARIANT,\n\tPAID_AMOUNT NUMBER(38,12),\n\tUSER_CNS_TOTAL_BALANCE NUMBER(38,12),\n\tCNS_PRINCIPAL_NET_DEFAULT NUMBER(38,12),\n\tCNS_PRINCIPAL_CHARGEDOFF_WRITEDOWN NUMBER(38,12),\n\tCNS_INTEREST_NET_DEFAULT NUMBER(38,12),\n\tOWN_PRINCIPAL_NET_DEFAULT NUMBER(38,12),\n\tCNS_FINANCED_RECEIVABLE_PAID_TOTAL NUMBER(38,12),\n\tCONSUMER_TYPE VARCHAR(16777216),\n\tIS_DEBIT_PLUS BOOLEAN,\n\tUSER_HAS_PREVIOUS_LOAN BOOLEAN,\n\tMERCHANT_IS_INSOLVENT BOOLEAN,\n\tFRAUD_DATE DATE,\n\tADJUSTED_PRICE_FACTOR NUMBER(38,12),\n\tADJUSTMENT_EFFECTIVE TIMESTAMP_NTZ(9),\n\tADVANCE_RATE NUMBER(38,12),\n\tALLOWABLE_ADVANCE NUMBER(38,12),\n\tCNS_ORIGINAL_PLEDGE_BALANCE NUMBER(38,12),\n\tCNS_PREVIOUS_PRINCIPAL NUMBER(38,12),\n\tCNS_INTEREST_PAID_ACTIVITY NUMBER(38,12),\n\tDAYS_TO_MATURITY NUMBER(38,0),\n\tDISBURSED_AMOUNT_LESS_DOWNPAYMENT NUMBER(38,12),\n\tDISCOUNTED_BALANCE NUMBER(38,12),\n\tDISCOUNTED_BALANCE_CHARGEDOFF NUMBER(38,12),\n\tDSB_ADJUSTED_PRINCIPAL NUMBER(38,12),\n\tDSB_ORIGINAL_PLEDGE_BALANCE NUMBER(38,12),\n\tDSB_PREVIOUS_PRINCIPAL NUMBER(38,12),\n\tHAS_PAYMENT_BEFORE_REPURCHASE BOOLEAN,\n\tINVESTOR_ON_PAR_PRINCIPAL NUMBER(38,12),\n\tIS_ABOVE_CONCENTRATION_LIMIT BOOLEAN,\n\tIS_ELIGIBLE BOOLEAN,\n\tIS_EXPLORATION BOOLEAN,\n\tIS_POS BOOLEAN,\n\tNOTE_A_BALANCE NUMBER(38,12),\n\tNOTE_B_BALANCE NUMBER(38,12),\n\tORIGINAL_PLEDGE_ACCRUED_INTEREST NUMBER(38,12),\n\tORIGINAL_PLEDGE_DATE DATE,\n\tORIGINAL_SETTLEMENT_PROCEEDS NUMBER(38,12),\n\tOTHER_DOWNWARD_ADJUSTMENT NUMBER(38,12),\n\tOTHER_UPWARD_ADJUSTMENT NUMBER(38,12),\n\tOWN_ORIGINAL_PLEDGE_BALANCE NUMBER(38,12),\n\tOWN_PREVIOUS_PRINCIPAL NUMBER(38,12),\n\tPRINCIPAL_ACTIVITY NUMBER(38,12),\n\tPURCHASE_PRICE_CONVENTION VARCHAR(16777216),\n\tREFUND_ACTIVITY NUMBER(38,12),\n\tSALE_PURCHASE_PRICE_FACTOR NUMBER(38,12),\n\tSELF_REPORTED_INCOME NUMBER(38,12),\n\tSERVICE_CREDIT_PAID NUMBER(38,12),\n\tSETTLEMENT_DATE DATE,\n\tSETTLEMENT_PROCEEDS NUMBER(38,12),\n\tZERO_OUT_ADJUSTMENT NUMBER(38,12),\n\tINCOME_VERIFIED BOOLEAN,\n\tWEIGHTED_AVERAGE_LIFE NUMBER(38,12),\n\tEXPECTED_PAYMENT_AMOUNT_NEXT_MONTH NUMBER(38,12),\n\tANNUAL_ORIGINATION_IRR NUMBER(38,12),\n\tDISCOUNT_RATE NUMBER(38,12),\n\tCGL NUMBER(38,12),\n\tREFUND_RATE NUMBER(38,12),\n\tDURATION NUMBER(38,12),\n\tBENCHMARK NUMBER(38,12),\n\tSPREAD NUMBER(38,12),\n\tSERVICING_FEE NUMBER(38,12),\n\tPRE_DISCOUNTED_SETTLEMENT_PROCEEDS NUMBER(38,12),\n\tIS_ABOVE_CONCENTRATION_MAP VARIANT,\n\tDISCOUNTED_PRINCIPAL_ACTIVITY NUMBER(38,12),\n\tDISCOUNTED_SERVICE_CREDIT_PAID NUMBER(38,12),\n\tDISCOUNTED_REFUND_ACTIVITY NUMBER(38,12),\n\tDISCOUNTED_OTHER_UPWARD_ADJUSTMENT NUMBER(38,12),\n\tDISCOUNTED_OTHER_DOWNWARD_ADJUSTMENT NUMBER(38,12),\n\tDISCOUNTED_GROSS_BALANCE_CHARGEDOFF NUMBER(38,12),\n\tADVANCE_RATES_MAP VARIANT,\n\tPRICE_FACTOR NUMBER(38,12),\n\tDEAL_ID NUMBER(38,0),\n\tEFFECTIVE TIMESTAMP_NTZ(9),\n\tPLEDGE_DATE DATE,\n\tSNAPSHOT_ID NUMBER(38,0),\n\tORDER_ID NUMBER(38,0)\n);\n-- Copying data from Stage file into Snowflake table\nCOPY  INTO loan_tape FROM @s3_stage_loan_tape/part\nFILE_FORMAT  = parquet_format\nMATCH_BY_COLUMN_NAME = CASE_INSENSITIVE",
   "execution_count": null
  },
  {
   "cell_type": "code",
   "id": "39a965fe-beb9-4f81-b26e-764485d2e7cd",
   "metadata": {
    "language": "python",
    "name": "cell11",
    "resultHeight": 38,
    "collapsed": false
   },
   "outputs": [],
   "source": "import time\nfrom snowflake.snowpark import Session\n\nwith Session.builder.getOrCreate() as session:\n        \n    df = session.read.option(\"compression\", \"gzip\").options({\"infer_schema\":True}).csv('@s3_stage_pre_sale_loan_tape')\n    row_count = df.count()\n    print(f\"The DataFrame has {row_count} rows.\")\n    df.write.mode(\"overwrite\").save_as_table(\"pre_sale_loan_tape\")",
   "execution_count": null
  },
  {
   "cell_type": "code",
   "id": "01b4b9e5-7a3d-4980-9015-f24718d8eef0",
   "metadata": {
    "language": "sql",
    "name": "cell12",
    "resultHeight": 112
   },
   "outputs": [],
   "source": "select count(*) from pre_sale_loan_tape",
   "execution_count": null
  }
 ]
}